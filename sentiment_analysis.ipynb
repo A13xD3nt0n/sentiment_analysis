{
  "nbformat": 4,
  "nbformat_minor": 0,
  "metadata": {
    "colab": {
      "provenance": []
    },
    "kernelspec": {
      "name": "python3",
      "display_name": "Python 3"
    },
    "language_info": {
      "name": "python"
    }
  },
  "cells": [
    {
      "cell_type": "markdown",
      "source": [
        "# Импорт библиотек"
      ],
      "metadata": {
        "id": "aWRFN7yOHc4o"
      }
    },
    {
      "cell_type": "code",
      "source": [
        "import warnings\n",
        "warnings.filterwarnings('ignore')"
      ],
      "metadata": {
        "id": "S6fpDK5X5eiu"
      },
      "execution_count": 1,
      "outputs": []
    },
    {
      "cell_type": "code",
      "execution_count": 2,
      "metadata": {
        "id": "YjpuVhBLHaha"
      },
      "outputs": [],
      "source": [
        "import glob\n",
        "import pandas as pd\n",
        "\n",
        "from bs4 import BeautifulSoup\n",
        "import re\n",
        "\n",
        "from sklearn.preprocessing import LabelBinarizer\n",
        "from keras.preprocessing.text import Tokenizer\n",
        "from tensorflow.keras.preprocessing.sequence import pad_sequences\n",
        "\n",
        "from tensorflow.keras.models import Sequential\n",
        "from tensorflow.keras.layers import LSTM, Embedding, Dense\n",
        "from tensorflow.keras.callbacks import ReduceLROnPlateau, ModelCheckpoint\n",
        "\n",
        "import matplotlib.pyplot as plt\n",
        "%matplotlib inline\n",
        "\n",
        "import json"
      ]
    },
    {
      "cell_type": "markdown",
      "source": [
        "# Загрузка датасета"
      ],
      "metadata": {
        "id": "43D9KV_wHfDC"
      }
    },
    {
      "cell_type": "markdown",
      "source": [
        "Распаковка архива"
      ],
      "metadata": {
        "id": "o0FZBaL_lwXr"
      }
    },
    {
      "cell_type": "code",
      "source": [
        "!tar -xzf \"/content/drive/MyDrive/aclImdb_v1.tar.gz\""
      ],
      "metadata": {
        "id": "0JRmury5E3TP"
      },
      "execution_count": 3,
      "outputs": []
    },
    {
      "cell_type": "markdown",
      "source": [
        "Загрузка обучающей выборки в DataFrame"
      ],
      "metadata": {
        "id": "03rHeaexbmrZ"
      }
    },
    {
      "cell_type": "code",
      "source": [
        "path = '/content/aclImdb/train'"
      ],
      "metadata": {
        "id": "AyFK1Wx1i6Xo"
      },
      "execution_count": 4,
      "outputs": []
    },
    {
      "cell_type": "code",
      "source": [
        "train_df = pd.DataFrame(columns = ['review', 'sentiment']) # DataFrame для тренировочной выборки\n",
        "\n",
        "# Чтение и занесение в DataFrame положительных отзывов\n",
        "for file_name in glob.glob(path + \"/pos/*.txt\"):\n",
        "  with open(file_name) as f:\n",
        "    df = pd.DataFrame({'review' : [f.read()], 'sentiment':['pos']})\n",
        "    train_df = pd.concat([train_df, df], ignore_index = True)\n",
        "\n",
        "# Чтение и занесение в DataFrame отрицательных отзывов\n",
        "for file_name in glob.glob(path + \"/neg/*.txt\"):\n",
        "  with open(file_name) as f:\n",
        "    df = pd.DataFrame({'review' : [f.read()], 'sentiment':['neg']})\n",
        "    train_df = pd.concat([train_df, df], ignore_index = True)"
      ],
      "metadata": {
        "id": "UtWlobi-SSpP"
      },
      "execution_count": 5,
      "outputs": []
    },
    {
      "cell_type": "markdown",
      "source": [
        "Загрузка тестовой выборки в DataFrame"
      ],
      "metadata": {
        "id": "_7Q1XwhdbrOm"
      }
    },
    {
      "cell_type": "code",
      "source": [
        "path = '/content/aclImdb/test'"
      ],
      "metadata": {
        "id": "deo0LPsDlJhd"
      },
      "execution_count": 6,
      "outputs": []
    },
    {
      "cell_type": "code",
      "source": [
        "test_df = pd.DataFrame(columns = ['review']) # DataFrame для тестовой выборки\n",
        "\n",
        "# Чтение и занесение в DataFrame положительных отзывов\n",
        "for file_name in glob.glob(path + \"/pos/*.txt\"):\n",
        "  with open(file_name) as f:\n",
        "    df = pd.DataFrame({'review' : [f.read()], 'sentiment':['pos']})\n",
        "    test_df = pd.concat([test_df, df], ignore_index = True)\n",
        "\n",
        "# Чтение и занесение в DataFrame отрицательных отзывов\n",
        "for file_name in glob.glob(path + \"/neg/*.txt\"):\n",
        "  with open(file_name) as f:\n",
        "    df = pd.DataFrame({'review' : [f.read()], 'sentiment':['neg']})\n",
        "    test_df = pd.concat([test_df, df], ignore_index = True)"
      ],
      "metadata": {
        "id": "V_Y4HpAvlFHc"
      },
      "execution_count": 7,
      "outputs": []
    },
    {
      "cell_type": "markdown",
      "source": [
        "Предобработка текста"
      ],
      "metadata": {
        "id": "NtENLNwObtDe"
      }
    },
    {
      "cell_type": "code",
      "source": [
        "# Удаление html-тегов\n",
        "def strip_html(text):\n",
        "    soup = BeautifulSoup(text, \"html.parser\")\n",
        "    return soup.get_text()\n",
        "\n",
        "# Удаление квадратных скобок\n",
        "def remove_between_square_brackets(text):\n",
        "    return re.sub('\\[[^]]*\\]', '', text)\n",
        "\n",
        "# Удаление специальных символов\n",
        "def remove_special_characters(text):\n",
        "    pattern=r'[^a-zA-z0-9\\s]'\n",
        "    text=re.sub(pattern,'',text)\n",
        "    return text\n",
        "\n",
        "def prepare_data(text):\n",
        "  text = strip_html(text)\n",
        "  text = remove_between_square_brackets(text)\n",
        "  text = remove_special_characters(text)\n",
        "  return text\n",
        "\n",
        "train_df['review'] = train_df['review'].apply(prepare_data)\n",
        "test_df['review'] = test_df['review'].apply(prepare_data)"
      ],
      "metadata": {
        "id": "vBIpejEF_oRz"
      },
      "execution_count": 8,
      "outputs": []
    },
    {
      "cell_type": "markdown",
      "source": [
        "Токенизация отзывов"
      ],
      "metadata": {
        "id": "nkD0NngUbvCz"
      }
    },
    {
      "cell_type": "code",
      "source": [
        "max_words = 10000 # Количество слов в словаре\n",
        "max_len = 300 # Длина вектора"
      ],
      "metadata": {
        "id": "2TC3wZXi369Z"
      },
      "execution_count": 9,
      "outputs": []
    },
    {
      "cell_type": "code",
      "source": [
        "tokenizer = Tokenizer(num_words=max_words)\n",
        "tokenizer.fit_on_texts(pd.concat([train_df['review'],test_df['review']], ignore_index=False))\n",
        "\n",
        "x_train = tokenizer.texts_to_sequences(train_df['review'])\n",
        "x_train = pad_sequences(x_train, max_len)\n",
        "\n",
        "x_test = tokenizer.texts_to_sequences(test_df['review'])\n",
        "x_test = pad_sequences(x_test, max_len)"
      ],
      "metadata": {
        "id": "iMISDj_bhM-U"
      },
      "execution_count": 10,
      "outputs": []
    },
    {
      "cell_type": "code",
      "source": [
        "lb = LabelBinarizer()\n",
        "y_train = lb.fit_transform(train_df['sentiment'])\n",
        "y_test = lb.transform(test_df['sentiment'])"
      ],
      "metadata": {
        "id": "uTZVhMRb5My0"
      },
      "execution_count": 11,
      "outputs": []
    },
    {
      "cell_type": "markdown",
      "source": [
        "# Создание модели"
      ],
      "metadata": {
        "id": "AUaHA6abHh3-"
      }
    },
    {
      "cell_type": "code",
      "source": [
        "model = Sequential()\n",
        "model.add(Embedding(max_words, 64, input_length=max_len))\n",
        "model.add(LSTM(64))\n",
        "model.add(Dense(1, activation='sigmoid'))\n",
        "\n",
        "model.compile(optimizer='adam',\n",
        "              loss='binary_crossentropy',\n",
        "              metrics=['accuracy'])"
      ],
      "metadata": {
        "id": "Zv5MTOOVHlSr"
      },
      "execution_count": 12,
      "outputs": []
    },
    {
      "cell_type": "markdown",
      "source": [
        "# Обучение модели"
      ],
      "metadata": {
        "id": "sTrS-enYHli7"
      }
    },
    {
      "cell_type": "markdown",
      "source": [
        "Использование callbacks"
      ],
      "metadata": {
        "id": "3-t5SUN7b0TQ"
      }
    },
    {
      "cell_type": "code",
      "execution_count": 13,
      "metadata": {
        "id": "QL4BhdI31xHQ"
      },
      "outputs": [],
      "source": [
        "modelCheckpoint = ModelCheckpoint(\"model.h5\",\n",
        "                                  monitor='val_accuracy',\n",
        "                                  verbose=2,\n",
        "                                  save_best_only=True)"
      ]
    },
    {
      "cell_type": "code",
      "execution_count": 14,
      "metadata": {
        "id": "PXeDaQ241xHQ"
      },
      "outputs": [],
      "source": [
        "reduce_lr = ReduceLROnPlateau(monitor='val_accuracy', factor = 0.2, patience=2, min_lr=0.00001)"
      ]
    },
    {
      "cell_type": "code",
      "execution_count": 15,
      "metadata": {
        "id": "Rh1xemO_1xHQ"
      },
      "outputs": [],
      "source": [
        "callbacks = [modelCheckpoint, reduce_lr]"
      ]
    },
    {
      "cell_type": "markdown",
      "source": [
        "Процесс обучения"
      ],
      "metadata": {
        "id": "ENkVL4Vhb2S6"
      }
    },
    {
      "cell_type": "code",
      "source": [
        "history = model.fit(x_train,\n",
        "                    y_train,\n",
        "                    epochs=20,\n",
        "                    batch_size=128,\n",
        "                    callbacks = callbacks,\n",
        "                    validation_split = 0.2)"
      ],
      "metadata": {
        "id": "ohP0f_zTHnaS",
        "colab": {
          "base_uri": "https://localhost:8080/"
        },
        "outputId": "0610d007-4c50-4604-f6a9-12762444759b"
      },
      "execution_count": 16,
      "outputs": [
        {
          "output_type": "stream",
          "name": "stdout",
          "text": [
            "Epoch 1/20\n",
            "157/157 [==============================] - ETA: 0s - loss: 0.5067 - accuracy: 0.7506\n",
            "Epoch 1: val_accuracy improved from -inf to 0.64660, saving model to model.h5\n",
            "157/157 [==============================] - 113s 694ms/step - loss: 0.5067 - accuracy: 0.7506 - val_loss: 0.6947 - val_accuracy: 0.6466 - lr: 0.0010\n",
            "Epoch 2/20\n",
            "157/157 [==============================] - ETA: 0s - loss: 0.2944 - accuracy: 0.8832\n",
            "Epoch 2: val_accuracy improved from 0.64660 to 0.81880, saving model to model.h5\n",
            "157/157 [==============================] - 107s 681ms/step - loss: 0.2944 - accuracy: 0.8832 - val_loss: 0.4747 - val_accuracy: 0.8188 - lr: 0.0010\n",
            "Epoch 3/20\n",
            "157/157 [==============================] - ETA: 0s - loss: 0.2145 - accuracy: 0.9194\n",
            "Epoch 3: val_accuracy did not improve from 0.81880\n",
            "157/157 [==============================] - 112s 714ms/step - loss: 0.2145 - accuracy: 0.9194 - val_loss: 0.4353 - val_accuracy: 0.8150 - lr: 0.0010\n",
            "Epoch 4/20\n",
            "157/157 [==============================] - ETA: 0s - loss: 0.1573 - accuracy: 0.9458\n",
            "Epoch 4: val_accuracy did not improve from 0.81880\n",
            "157/157 [==============================] - 111s 706ms/step - loss: 0.1573 - accuracy: 0.9458 - val_loss: 0.6080 - val_accuracy: 0.7522 - lr: 0.0010\n",
            "Epoch 5/20\n",
            "157/157 [==============================] - ETA: 0s - loss: 0.1058 - accuracy: 0.9681\n",
            "Epoch 5: val_accuracy improved from 0.81880 to 0.84280, saving model to model.h5\n",
            "157/157 [==============================] - 119s 763ms/step - loss: 0.1058 - accuracy: 0.9681 - val_loss: 0.4736 - val_accuracy: 0.8428 - lr: 2.0000e-04\n",
            "Epoch 6/20\n",
            "157/157 [==============================] - ETA: 0s - loss: 0.0900 - accuracy: 0.9743\n",
            "Epoch 6: val_accuracy did not improve from 0.84280\n",
            "157/157 [==============================] - 109s 692ms/step - loss: 0.0900 - accuracy: 0.9743 - val_loss: 0.5699 - val_accuracy: 0.8262 - lr: 2.0000e-04\n",
            "Epoch 7/20\n",
            "157/157 [==============================] - ETA: 0s - loss: 0.0803 - accuracy: 0.9776\n",
            "Epoch 7: val_accuracy did not improve from 0.84280\n",
            "157/157 [==============================] - 112s 715ms/step - loss: 0.0803 - accuracy: 0.9776 - val_loss: 0.5624 - val_accuracy: 0.8276 - lr: 2.0000e-04\n",
            "Epoch 8/20\n",
            "157/157 [==============================] - ETA: 0s - loss: 0.0690 - accuracy: 0.9829\n",
            "Epoch 8: val_accuracy did not improve from 0.84280\n",
            "157/157 [==============================] - 115s 734ms/step - loss: 0.0690 - accuracy: 0.9829 - val_loss: 0.5739 - val_accuracy: 0.8298 - lr: 4.0000e-05\n",
            "Epoch 9/20\n",
            "157/157 [==============================] - ETA: 0s - loss: 0.0670 - accuracy: 0.9833\n",
            "Epoch 9: val_accuracy did not improve from 0.84280\n",
            "157/157 [==============================] - 109s 690ms/step - loss: 0.0670 - accuracy: 0.9833 - val_loss: 0.5721 - val_accuracy: 0.8290 - lr: 4.0000e-05\n",
            "Epoch 10/20\n",
            "157/157 [==============================] - ETA: 0s - loss: 0.0649 - accuracy: 0.9838\n",
            "Epoch 10: val_accuracy did not improve from 0.84280\n",
            "157/157 [==============================] - 110s 700ms/step - loss: 0.0649 - accuracy: 0.9838 - val_loss: 0.5765 - val_accuracy: 0.8294 - lr: 1.0000e-05\n",
            "Epoch 11/20\n",
            "157/157 [==============================] - ETA: 0s - loss: 0.0644 - accuracy: 0.9841\n",
            "Epoch 11: val_accuracy did not improve from 0.84280\n",
            "157/157 [==============================] - 110s 702ms/step - loss: 0.0644 - accuracy: 0.9841 - val_loss: 0.6054 - val_accuracy: 0.8228 - lr: 1.0000e-05\n",
            "Epoch 12/20\n",
            "157/157 [==============================] - ETA: 0s - loss: 0.0640 - accuracy: 0.9841\n",
            "Epoch 12: val_accuracy did not improve from 0.84280\n",
            "157/157 [==============================] - 107s 682ms/step - loss: 0.0640 - accuracy: 0.9841 - val_loss: 0.6093 - val_accuracy: 0.8222 - lr: 1.0000e-05\n",
            "Epoch 13/20\n",
            "157/157 [==============================] - ETA: 0s - loss: 0.0635 - accuracy: 0.9844\n",
            "Epoch 13: val_accuracy did not improve from 0.84280\n",
            "157/157 [==============================] - 109s 698ms/step - loss: 0.0635 - accuracy: 0.9844 - val_loss: 0.5931 - val_accuracy: 0.8264 - lr: 1.0000e-05\n",
            "Epoch 14/20\n",
            "157/157 [==============================] - ETA: 0s - loss: 0.0630 - accuracy: 0.9844\n",
            "Epoch 14: val_accuracy did not improve from 0.84280\n",
            "157/157 [==============================] - 108s 689ms/step - loss: 0.0630 - accuracy: 0.9844 - val_loss: 0.6052 - val_accuracy: 0.8230 - lr: 1.0000e-05\n",
            "Epoch 15/20\n",
            "157/157 [==============================] - ETA: 0s - loss: 0.0625 - accuracy: 0.9848\n",
            "Epoch 15: val_accuracy did not improve from 0.84280\n",
            "157/157 [==============================] - 108s 687ms/step - loss: 0.0625 - accuracy: 0.9848 - val_loss: 0.6182 - val_accuracy: 0.8208 - lr: 1.0000e-05\n",
            "Epoch 16/20\n",
            "157/157 [==============================] - ETA: 0s - loss: 0.0621 - accuracy: 0.9850\n",
            "Epoch 16: val_accuracy did not improve from 0.84280\n",
            "157/157 [==============================] - 111s 708ms/step - loss: 0.0621 - accuracy: 0.9850 - val_loss: 0.5855 - val_accuracy: 0.8292 - lr: 1.0000e-05\n",
            "Epoch 17/20\n",
            "157/157 [==============================] - ETA: 0s - loss: 0.0616 - accuracy: 0.9852\n",
            "Epoch 17: val_accuracy did not improve from 0.84280\n",
            "157/157 [==============================] - 113s 718ms/step - loss: 0.0616 - accuracy: 0.9852 - val_loss: 0.5991 - val_accuracy: 0.8254 - lr: 1.0000e-05\n",
            "Epoch 18/20\n",
            "157/157 [==============================] - ETA: 0s - loss: 0.0611 - accuracy: 0.9854\n",
            "Epoch 18: val_accuracy did not improve from 0.84280\n",
            "157/157 [==============================] - 107s 681ms/step - loss: 0.0611 - accuracy: 0.9854 - val_loss: 0.5798 - val_accuracy: 0.8322 - lr: 1.0000e-05\n",
            "Epoch 19/20\n",
            "157/157 [==============================] - ETA: 0s - loss: 0.0606 - accuracy: 0.9855\n",
            "Epoch 19: val_accuracy did not improve from 0.84280\n",
            "157/157 [==============================] - 106s 673ms/step - loss: 0.0606 - accuracy: 0.9855 - val_loss: 0.6127 - val_accuracy: 0.8234 - lr: 1.0000e-05\n",
            "Epoch 20/20\n",
            "157/157 [==============================] - ETA: 0s - loss: 0.0601 - accuracy: 0.9856\n",
            "Epoch 20: val_accuracy did not improve from 0.84280\n",
            "157/157 [==============================] - 108s 687ms/step - loss: 0.0601 - accuracy: 0.9856 - val_loss: 0.6049 - val_accuracy: 0.8260 - lr: 1.0000e-05\n"
          ]
        }
      ]
    },
    {
      "cell_type": "markdown",
      "source": [
        "Визуализация процесса обучения"
      ],
      "metadata": {
        "id": "jdNcUHU1b4EU"
      }
    },
    {
      "cell_type": "code",
      "source": [
        "plt.plot(history.history['accuracy'], label='Accuracy train')\n",
        "plt.plot(history.history['val_accuracy'], label='Accuracy validation')\n",
        "plt.xlabel('epoch')\n",
        "plt.ylabel('accuracy')\n",
        "plt.legend()\n",
        "plt.show()"
      ],
      "metadata": {
        "id": "P5D1porXum-g",
        "colab": {
          "base_uri": "https://localhost:8080/",
          "height": 452
        },
        "outputId": "daa0cc8e-260d-481d-b7c2-e7c99ba9d3b6"
      },
      "execution_count": 17,
      "outputs": [
        {
          "output_type": "display_data",
          "data": {
            "text/plain": [
              "<Figure size 640x480 with 1 Axes>"
            ],
            "image/png": "[encoded data removed]"
          },
          "metadata": {}
        }
      ]
    },
    {
      "cell_type": "markdown",
      "source": [
        "# Тестирование модели"
      ],
      "metadata": {
        "id": "KbCQU54THnqs"
      }
    },
    {
      "cell_type": "markdown",
      "source": [
        "Загрузка лучших параметров весов"
      ],
      "metadata": {
        "id": "d15O5dFxb6o3"
      }
    },
    {
      "cell_type": "code",
      "source": [
        "model.load_weights('/content/model.h5')"
      ],
      "metadata": {
        "id": "pK3yxDEw5Wu0"
      },
      "execution_count": 18,
      "outputs": []
    },
    {
      "cell_type": "markdown",
      "source": [
        "Тестирование модели на тестовой выборке"
      ],
      "metadata": {
        "id": "Kz1aztKMb9O1"
      }
    },
    {
      "cell_type": "code",
      "source": [
        "scores = model.evaluate(x_test, y_test, verbose=1)"
      ],
      "metadata": {
        "id": "U1wRqSgpHsYA",
        "colab": {
          "base_uri": "https://localhost:8080/"
        },
        "outputId": "c1211cf6-5ef2-4547-bc97-a549f10e2654"
      },
      "execution_count": 19,
      "outputs": [
        {
          "output_type": "stream",
          "name": "stdout",
          "text": [
            "782/782 [==============================] - 40s 51ms/step - loss: 0.3956 - accuracy: 0.8616\n"
          ]
        }
      ]
    },
    {
      "cell_type": "markdown",
      "source": [
        "# Сохранение модели и токенайзера"
      ],
      "metadata": {
        "id": "5tFbjdpWHtYw"
      }
    },
    {
      "cell_type": "markdown",
      "source": [
        "Сохранение модели"
      ],
      "metadata": {
        "id": "8SL41_2_cCtk"
      }
    },
    {
      "cell_type": "code",
      "source": [
        "model.save('rnn_model.h5')"
      ],
      "metadata": {
        "id": "F-OryocIHvTB"
      },
      "execution_count": 20,
      "outputs": []
    },
    {
      "cell_type": "markdown",
      "source": [
        "Сохранение токенайзера"
      ],
      "metadata": {
        "id": "8BPqAwOfcDzK"
      }
    },
    {
      "cell_type": "code",
      "source": [
        "with open('tokenizer.json', 'w') as outfile:\n",
        "    json.dump(tokenizer.to_json(), outfile)"
      ],
      "metadata": {
        "id": "d7uvR8S5yn1d"
      },
      "execution_count": 21,
      "outputs": []
    }
  ]
}